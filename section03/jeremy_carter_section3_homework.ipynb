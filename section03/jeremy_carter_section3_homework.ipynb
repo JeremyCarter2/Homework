{
 "cells": [
  {
   "cell_type": "markdown",
   "metadata": {},
   "source": [
    "### Questions 1-5\n",
    "\n",
    "#### What is an algorithm?\n",
    "_An algorithm is a series of steps to solve a problem at hand_\n",
    "#### Variable names may not start with certain characters - name two.\n",
    "_variables cannot start with numbers or underscores_\n",
    "#### What is a Semantic error?\n",
    "_A semantic error is when the code can run - but does not produce the results expected_ \n",
    "#### What is the #1 rule of coding / debugging?\n",
    "_Complexity is the enemy of efficiencey_\n",
    "#### List 5 Python reserved words.\n",
    "- false\n",
    "- true\n",
    "- if\n",
    "- elif\n",
    "- in\n"
   ]
  },
  {
   "cell_type": "code",
   "execution_count": 112,
   "metadata": {},
   "outputs": [
    {
     "data": {
      "text/plain": [
       "' My name is Jeremy Carter.\\nMy favorite food is a breakfast burrito.\\nMy dream job is a collegiate track coach. '"
      ]
     },
     "execution_count": 112,
     "metadata": {},
     "output_type": "execute_result"
    }
   ],
   "source": [
    "# Question six\n",
    "\"\"\" My name is Jeremy Carter.\n",
    "My favorite food is a breakfast burrito.\n",
    "My dream job is a collegiate track coach. \"\"\""
   ]
  },
  {
   "cell_type": "code",
   "execution_count": 113,
   "metadata": {},
   "outputs": [
    {
     "name": "stdout",
     "output_type": "stream",
     "text": [
      "14\n",
      "l\n"
     ]
    }
   ],
   "source": [
    "# Question seven\n",
    "\n",
    "a = \"grilled cheese\"\n",
    "b = 3.14\n",
    "c = 0\n",
    "d = [\"hamilton\", \"elenoer\"]\n",
    "e = (\"lillard\", \"simons\", \"scoot\", \"sharpe\", \"nurkic\")\n",
    "\n",
    "print(len(a))\n",
    "print(a[3])"
   ]
  },
  {
   "cell_type": "code",
   "execution_count": 2,
   "metadata": {},
   "outputs": [
    {
     "name": "stdout",
     "output_type": "stream",
     "text": [
      "ing Data Analytics \n",
      "True\n"
     ]
    }
   ],
   "source": [
    "# Question eight\n",
    "\n",
    "savvy = \"Learning Data Analytics and Python is Awesome!\"\n",
    "print(savvy[5:24])\n",
    "savvy_updated = savvy.replace(\"Awesome\", \"great\")\n",
    "print(\"Python\" in savvy )"
   ]
  },
  {
   "cell_type": "code",
   "execution_count": 115,
   "metadata": {},
   "outputs": [
    {
     "name": "stdout",
     "output_type": "stream",
     "text": [
      "Hi my name is Jeremy, I am 6'1 tall and 35 years old today.\n",
      "35.0\n"
     ]
    }
   ],
   "source": [
    "# Question nine\n",
    "\n",
    "name, age, length = \"Jeremy\", 35, \"6'1\" \n",
    "\n",
    "minibio = f\"Hi my name is {name}, I am {length} tall and {age} years old today.\"\n",
    "\n",
    "print(minibio)\n",
    "floater = float(age)\n",
    "print(floater)"
   ]
  },
  {
   "cell_type": "code",
   "execution_count": 5,
   "metadata": {},
   "outputs": [
    {
     "name": "stdout",
     "output_type": "stream",
     "text": [
      "14\n",
      "['?', 0, 'simons', 1, 'scoot', 0, 'sharpe', 17, 'nurkic', 27, 'jabari', 34, 'jerami', 9]\n",
      "[0, 1, 9, 17, 27, 34]\n",
      "[0, 1, 9, 17, 27, 34, 0, 1, 9, 17, 27, 34]\n"
     ]
    }
   ],
   "source": [
    "# Question ten \n",
    "\n",
    "blazers = [\"lillard\", 0, \"simons\", 1, \"scoot\", 00, \"sharpe\", 17, \"nurkic\", 27]\n",
    "blazers[0] = \"?\"\n",
    "blazers.append(\"jabari\")\n",
    "blazers.append(34)\n",
    "blazers.append(\"jerami\")\n",
    "blazers.append(9)\n",
    "print(len(blazers))\n",
    "players = blazers[0:14:2]\n",
    "blazers.extend(players)\n",
    "\n",
    "#simlist\n",
    "simList = [0, 1, 17, 27, 34, 9]\n",
    "simList.sort()\n",
    "print(simList)\n",
    "\n",
    "simList2 = simList.copy()\n",
    "\n",
    "simList3 = simList + simList2\n",
    "print(simList3)"
   ]
  },
  {
   "cell_type": "code",
   "execution_count": 117,
   "metadata": {},
   "outputs": [
    {
     "name": "stdout",
     "output_type": "stream",
     "text": [
      "earth\n",
      "['earth', 'earth', 'earth', 'fire', 'fire', 'fire', 'space', 'space', 'space', 'water', 'water', 'water', 'wind', 'wind', 'wind']\n",
      "('fire', 'earth', 'water', 'space')\n",
      "(50,)\n",
      "('fire', 'earth', 'water', 'space', 'wind', 'fire', 'earth', 'water', 'space', 'wind', 'fire', 'earth', 'water', 'space', 'wind', 'fire', 'earth', 'water', 'space')\n"
     ]
    }
   ],
   "source": [
    "# Question eleven\n",
    "\n",
    "elements = (\"fire\", \"earth\", \"water\", \"space\", \"wind\")\n",
    "\n",
    "triplesIsBest = elements * 3\n",
    "\n",
    "print(triplesIsBest[11])\n",
    "print(sorted(triplesIsBest))\n",
    "\n",
    "turboTeam = triplesIsBest[0:4]\n",
    "print(turboTeam)\n",
    "\n",
    "fifty = (50,)\n",
    "print(fifty)\n",
    "\n",
    "payItForward = triplesIsBest + turboTeam\n",
    "print(payItForward)"
   ]
  },
  {
   "cell_type": "code",
   "execution_count": 10,
   "metadata": {},
   "outputs": [
    {
     "name": "stdout",
     "output_type": "stream",
     "text": [
      "{'soccer', 'basetball', 'baseball'}\n",
      "{'pineapple', 'tennis', 'basetball', 'baseball', 'starfruit', 'soccer', 'waterpolo'}\n",
      "{'radiator', 'orange', 'apple'}\n",
      "set()\n",
      "{'tennis', 'basetball', 'baseball', 'starfruit', 'soccer', 'waterpolo'}\n"
     ]
    }
   ],
   "source": [
    "# Question twelve\n",
    "\n",
    "sports = {\"basetball\", \"soccer\", \"baseball\"}\n",
    "fruits = {\"apple\", \"orange\", \"watermelon\"}\n",
    "fruits.add(\"radiator\")\n",
    "print(sports)\n",
    "\n",
    "more = {\"tennis\", \"pineapple\", \"waterpolo\", \"starfruit\"}\n",
    "fruitysporty = sports.union(more)\n",
    "print(fruitysporty)\n",
    "\n",
    "fruits.pop()\n",
    "print(fruits)\n",
    "\n",
    "sports.clear()\n",
    "print(sports)\n",
    "\n",
    "fruitysporty.discard(2)\n",
    "fruitysporty.remove(\"pineapple\")\n",
    "print(fruitysporty)"
   ]
  },
  {
   "cell_type": "code",
   "execution_count": 119,
   "metadata": {},
   "outputs": [
    {
     "name": "stdout",
     "output_type": "stream",
     "text": [
      "0\n",
      "dict_keys(['Lillard', 'Simons', 'Sharpe', 'Grant', 'Nurkic', 'favorite color', 'all-stars'])\n",
      "dict_values(['Carter', 1, 17, 9, 27, 'black', ('Lillard', 'Simons', 'Scoot')])\n",
      "{'Lillard': 'Carter', 'Simons': 1, 'Sharpe': 17, 'Grant': 9, 'Nurkic': 27, 'all-stars': ('Lillard', 'Simons', 'Scoot')}\n",
      "{}\n"
     ]
    }
   ],
   "source": [
    "# Question thirteen\n",
    "\n",
    "playernumbers = {\n",
    "    \"Lillard\" : 0,\n",
    "    \"Simons\" : 1,\n",
    "    \"Sharpe\" : 17,\n",
    "    \"Grant\" : 9,\n",
    "    \"Nurkic\" : 27,\n",
    "}\n",
    "\n",
    "print(playernumbers[\"Lillard\"])\n",
    "\n",
    "playernumbers[\"Lillard\"] = \"Carter\"\n",
    "playernumbers[\"favorite color\"] = \"black\"\n",
    "playernumbers[\"all-stars\"] = (\"Lillard\", \"Simons\", \"Scoot\")\n",
    "\n",
    "print(playernumbers.keys())\n",
    "print(playernumbers.values())\n",
    "\n",
    "import copy\n",
    "numberplayers = copy.deepcopy(playernumbers)\n",
    "numberplayers.pop(\"favorite color\")\n",
    "print(numberplayers)\n",
    "\n",
    "numberplayers.clear()\n",
    "print(numberplayers)"
   ]
  }
 ],
 "metadata": {
  "kernelspec": {
   "display_name": "Python 3",
   "language": "python",
   "name": "python3"
  },
  "language_info": {
   "codemirror_mode": {
    "name": "ipython",
    "version": 3
   },
   "file_extension": ".py",
   "mimetype": "text/x-python",
   "name": "python",
   "nbconvert_exporter": "python",
   "pygments_lexer": "ipython3",
   "version": "3.11.3"
  },
  "orig_nbformat": 4
 },
 "nbformat": 4,
 "nbformat_minor": 2
}
