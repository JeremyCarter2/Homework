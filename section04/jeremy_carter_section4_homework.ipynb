{
 "cells": [
  {
   "cell_type": "markdown",
   "metadata": {},
   "source": [
    "##### What does one need to do to use a module? \n",
    "- In order to use a module you must first _import_ the module\n",
    "##### Name a Module (not the DateTime Nodule) we looked at and write a line or 2 of code as an example using this module.\n",
    "- random module "
   ]
  },
  {
   "cell_type": "code",
   "execution_count": 1,
   "metadata": {},
   "outputs": [
    {
     "name": "stdout",
     "output_type": "stream",
     "text": [
      "7\n"
     ]
    }
   ],
   "source": [
    "#I am going to use the random module to import a randome interger between 1 and 10\n",
    "\n",
    "import random #import the module\n",
    "random_interger = random.randint(1, 10) #define a variable, call random and randint function\n",
    "print(random_interger) #print the variable"
   ]
  },
  {
   "cell_type": "markdown",
   "metadata": {},
   "source": [
    "##### What is a benefit of using Exception handling?\n",
    "- Ecception handling allows code to operate even if there's errors. It will bypass the code if it fails to execute and jump to the except. \n",
    "##### what are the 4 components used for Python Exception Handling?\n",
    "- The four components used for Python Exception Handling are \"try\", \"except\", \"else\", and \"finally\" \n",
    "##### NumPy arrays are like what Python data type?\n",
    "- NumPy arrays are similiar to Python Lists, but not the same. Lists can store multiple data types while NumPy arrays can store only one data type. \n",
    "##### What is one of the main benefits of using NumPy arrays.\n",
    "- One of the main benefits of using NumPy arrays instead of lists is they occupy less memory. \n",
    "##### What is one of the main requirements about the 'dtype' of NumPy arrays?\n",
    "- All elements within a singly NumPy array must be the same data type. \n",
    "##### Of the 10 uses of NumPy, name 2.\n",
    "- Of the 10 uses of NumPy, two of the uses are Statistical and Arithmetic operrations.  \n",
    "##### Name one of the other libraries we'll use with NumPy?\n",
    "- Another library that is built on the top of NumPy arrays and will be used with NumPy is Pandas \n",
    "##### What is the shape of NumPy arrays?\n",
    "-  The shape of a NumPy array is a matrix.  The shape refers to the number of dimensions in that matrix.\n",
    "##### What is a Tensor?\n",
    "- A Tensor is an array with 3+ dimensions\n",
    "##### Name a reason why it's better using NumPy for Data Analysis than using a Python List?\n",
    "- Another reason why it would be better to use NumPy for Data Analsis rather than a list would be the time it takes for a program to run. \n",
    "##### When creating an \"empty\" array, where do the elements come from?\n",
    "- An \"empty\" array will fill in values based on memory."
   ]
  },
  {
   "cell_type": "code",
   "execution_count": 21,
   "metadata": {},
   "outputs": [
    {
     "name": "stdout",
     "output_type": "stream",
     "text": [
      "Renting a car is very expensive.\n"
     ]
    }
   ],
   "source": [
    "# Create an if statement: if 'age' is greater than or equal to 25, print \"Renting a car is more affordable\", however if 'age' is less than 25, print \"Renting a car is very expensive.\"\n",
    "\n",
    "age = input(\"What is your age?\") # asks user for their age\n",
    "\n",
    "try: # to handle invalid inputs\n",
    "    x = int(age) # trys to convert age to interger\n",
    "    if x >= 25: \n",
    "        print(\"Renting a car is more affordable\")\n",
    "    elif x < 25:\n",
    "        print(\"Renting a car is very expensive.\")\n",
    "except ValueError:\n",
    "    print(\"please input a valid age\")"
   ]
  },
  {
   "cell_type": "code",
   "execution_count": 28,
   "metadata": {},
   "outputs": [
    {
     "name": "stdout",
     "output_type": "stream",
     "text": [
      "Renting a car is very expensive.\n"
     ]
    }
   ],
   "source": [
    "# Create and chain an if-else statement: if 'age' is greater than or equal to 25, print \"Renting a car is more affordable.\" If 'age' is less than 25 but greater than or equal to 18, print \"Renting a car is very expensive.\" Finally, if age is less than 18, print \"You cannot legally rent a car.\"\n",
    "\n",
    "age = input(\"What is your age?\") # asks user for their age\n",
    "\n",
    "try: # to handle invalid inputs\n",
    "    x = int(age) # tries to convert age to integer\n",
    "    \n",
    "    if x >= 25: \n",
    "        print(\"Renting a car is more affordable.\")\n",
    "    elif x < 25 and x >= 18:\n",
    "        print(\"Renting a car is very expensive.\")\n",
    "    else: # This means age is less than 18\n",
    "        print(\"You cannot legally rent a car.\")\n",
    "except ValueError:\n",
    "    print(\"Please input a valid age.\")"
   ]
  },
  {
   "cell_type": "code",
   "execution_count": 30,
   "metadata": {},
   "outputs": [
    {
     "name": "stdout",
     "output_type": "stream",
     "text": [
      "43\n",
      "e,u,i,o,o,u,o,e,e,a,o,"
     ]
    }
   ],
   "source": [
    "# Loop over the following string to (1) count all the characters in the string and (2) print out all the vowels -- \"The quick brown fox jumps over the lazy dog\"\n",
    "\n",
    "sentence = \"The quick brown fox jumps over the lazy dog\" # defines the variable\n",
    "\n",
    "print(len(sentence)) # prints the length of the sentence \n",
    "\n",
    "for i in sentence: # iterates throught the sentence\n",
    "    if i in \"aeiouAEIOU\": # looks for a vowel\n",
    "        print(i, end= \",\") # prints the vowel if it finds it\n",
    "    "
   ]
  },
  {
   "cell_type": "code",
   "execution_count": 32,
   "metadata": {},
   "outputs": [
    {
     "name": "stdout",
     "output_type": "stream",
     "text": [
      "cerise trousers,aqua trousers,burnt sienna trousers,gunmetal blue trousers,Dark Sapphire trousers,auburn trousers,maple trousers,fuchsia trousers,cerise blouse,aqua blouse,burnt sienna blouse,gunmetal blue blouse,Dark Sapphire blouse,auburn blouse,maple blouse,fuchsia blouse,cerise bandana,aqua bandana,burnt sienna bandana,gunmetal blue bandana,Dark Sapphire bandana,auburn bandana,maple bandana,fuchsia bandana,cerise cumber band,aqua cumber band,burnt sienna cumber band,gunmetal blue cumber band,Dark Sapphire cumber band,auburn cumber band,maple cumber band,fuchsia cumber band,cerise blazer,aqua blazer,burnt sienna blazer,gunmetal blue blazer,Dark Sapphire blazer,auburn blazer,maple blazer,fuchsia blazer,cerise vest,aqua vest,burnt sienna vest,gunmetal blue vest,Dark Sapphire vest,auburn vest,maple vest,fuchsia vest,cerise french beret,aqua french beret,burnt sienna french beret,gunmetal blue french beret,Dark Sapphire french beret,auburn french beret,maple french beret,fuchsia french beret,cerise scarf,aqua scarf,burnt sienna scarf,gunmetal blue scarf,Dark Sapphire scarf,auburn scarf,maple scarf,fuchsia scarf,cerise stole,aqua stole,burnt sienna stole,gunmetal blue stole,Dark Sapphire stole,auburn stole,maple stole,fuchsia stole,"
     ]
    }
   ],
   "source": [
    "\n",
    "# Write a nested loop that prints out every piece of clothing from the couture list, in every fashionable color from the panettone set: couture = [\"trousers\", \"blouse\", \"bandana\", \"cumber band\", \"blazer\", \"vest\", \"french beret\", \"scarf\", \"stole\"] and panettone = {\"cerise\", \"fuchsia\", \"aqua\", \"maple\", \"auburn\", \"burnt sienna\", \"gunmetal blue\", \"Dark Sapphire\"}\n",
    "\n",
    "couture = [\"trousers\", \"blouse\", \"bandana\", \"cumber band\", \"blazer\", \"vest\", \"french beret\", \"scarf\", \"stole\"]\n",
    "panettone = {\"cerise\", \"fuchsia\", \"aqua\", \"maple\", \"auburn\", \"burnt sienna\", \"gunmetal blue\", \"Dark Sapphire\"}\n",
    "\n",
    "for i in couture: # iterates through the clothing\n",
    "    for j in panettone: # iterates through the colors\n",
    "        print(j, i, end= \",\") # prints the combinations"
   ]
  },
  {
   "cell_type": "code",
   "execution_count": 36,
   "metadata": {},
   "outputs": [
    {
     "name": "stdout",
     "output_type": "stream",
     "text": [
      "5050\n"
     ]
    }
   ],
   "source": [
    "\n",
    "# Use range as a loop to calculate the sum of all the numbers from 1 to 100\n",
    "\n",
    "nums = range(1,100) # defines the range\n",
    "\n",
    "for i in nums: # iterates through the range\n",
    "    total = total + i # adds up each i\n",
    "\n",
    "print(total) # prints it"
   ]
  },
  {
   "cell_type": "code",
   "execution_count": 58,
   "metadata": {},
   "outputs": [
    {
     "name": "stdout",
     "output_type": "stream",
     "text": [
      "banana\n",
      "['kiwi', 'melon']\n",
      "['cherry', 'orange', 'kiwi']\n",
      "7\n"
     ]
    }
   ],
   "source": [
    "\n",
    "# Print the second item in this fruits list. [\"apple\", \"banana\", \"cherry\"]\n",
    "# Change the value from \"apple\" to \"kiwi\", in the fruits list. [\"apple\", \"banana\", \"cherry\"]\n",
    "# Use the append method to add \"orange\" to the fruits list. [\"apple\", \"banana\", \"cherry\"]\n",
    "# Use the insert method to add \"lemon\" as the second item in the fruits list. [\"apple\", \"banana\", \"cherry\"]\n",
    "# Use the remove method to remove \"banana\" from the fruits list. [\"apple\", \"banana\", \"cherry\"]\n",
    "# Use negative indexing to print the 3rd and 2nd to last items in the list. [\"apple\", \"banana\", \"cherry\", \"orange\", \"kiwi\", \"melon\", \"mango\"]\n",
    "# Use a range of indexes to print the third, fourth, and fifth item in the list. [\"apple\", \"banana\", \"cherry\", \"orange\", \"kiwi\", \"melon\", \"mango\"]\n",
    "# Use the correct syntax to print the number of items in the list. [\"apple\", \"banana\", \"cherry\", \"orange\", \"kiwi\", \"melon\", \"mango\"]\n",
    "# Use the correct syntax to sort this list in reverse order [\"apple\", \"banana\", \"cherry\", \"orange\", \"kiwi\", \"melon\", \"mango\"]\n",
    "\n",
    "fruits = [\"apple\", \"banana\", \"cherry\"] # defines the list\n",
    "\n",
    "print(fruits[1]) # prints the second item on the list using index\n",
    "\n",
    "fruits[0] = \"kiwi\" # uses index to update the list \n",
    "\n",
    "fruits.append(\"orange\") # appends \"orange\" onto the list\n",
    "\n",
    "fruits.insert(1, \"lemon\") # inserts \"lemon\" in the second place on the list\n",
    "\n",
    "fruits.remove(\"banana\") # removes the word \"banana\" from the list\n",
    "\n",
    "fruits = [\"apple\", \"banana\", \"cherry\", \"orange\", \"kiwi\", \"melon\", \"mango\"] # updates the list\n",
    "\n",
    "print(fruits[-3:-1]) # prints the 3rd from last and up to the last item in the list\n",
    "\n",
    "print(fruits[2:5]) # prints the 3rd, 4th, 5th items in the list\n",
    "\n",
    "print(len(fruits)) # prints the length of the fruits list\n",
    "\n",
    "reverse_fruits = sorted(fruits, reverse= True) # reverses the list uses the sorted function"
   ]
  },
  {
   "cell_type": "code",
   "execution_count": 66,
   "metadata": {},
   "outputs": [
    {
     "name": "stdout",
     "output_type": "stream",
     "text": [
      "2023-08-21 14:23:08.062594\n",
      "The current month is August and the year is 2023 and it is a Monday\n"
     ]
    }
   ],
   "source": [
    "# Use the DateTime module to get Current Date and Time, and save it to a variable. Then extract just the Full month name form that variable.\n",
    "\n",
    "\n",
    "import datetime as dt # import datetime module\n",
    "\n",
    "currentdt = dt.datetime.now() # define currentdt as the current date and time\n",
    "\n",
    "print(currentdt) # print it \n",
    "\n",
    "print(f'The current month is {currentdt.strftime(\"%B\")} and the year is {currentdt.strftime(\"%Y\")} and it is a {currentdt.strftime(\"%A\")}') # practice with the different string formats available in datetime module\n"
   ]
  },
  {
   "cell_type": "code",
   "execution_count": 78,
   "metadata": {},
   "outputs": [
    {
     "name": "stdout",
     "output_type": "stream",
     "text": [
      "Hi Jeremy! Happy Sunday!\n",
      "Hi Jeremy! Happy Friday!\n"
     ]
    }
   ],
   "source": [
    "# Set a default value for the day name of Sunday.\n",
    "# Have the function print out a greeting -- using the parameters -- that says something like \"Hi first-name! Happy day-name!\". Remember to use the variables in the greeting to replace first-name and day-name.\n",
    "# Invoke this function with 2 variables.\n",
    "# Invoke this function with 1 variable only.\n",
    "\n",
    "def practice(name, day = \"Sunday\"): # define the practice function as 2 variables, but set the day variable to \"Sunday\"\n",
    "    print(f'Hi {name}! Happy {day}!') # print the function\n",
    "\n",
    "practice(\"Jeremy\") # only 1 variable and it defaults to the second variable being Sunday\n",
    "practice(\"Jeremy\", \"Friday\") # but you can set the second variable if necessary"
   ]
  },
  {
   "cell_type": "code",
   "execution_count": 92,
   "metadata": {},
   "outputs": [
    {
     "name": "stdout",
     "output_type": "stream",
     "text": [
      "There's not enough players on the team!\n",
      "Blazers win!\n"
     ]
    }
   ],
   "source": [
    "# Write a block of code to handle one of the most common Python exception errors. Select one of the common errors from the curriculum section on Python Exception handling. Have your code example uses the try,except, else, and finally components.\n",
    "\n",
    "blazers = [\"Lillard\", \"Simons\", \"Thybulle\", \"Grant\", \"Nurkic\", \"Sharpe\", \"Henderson\", \"Johnson\"]\n",
    "\n",
    "try: \n",
    "    print(blazers[10])\n",
    "\n",
    "except IndexError:\n",
    "    print(\"There's not enough players on the team!\")\n",
    "\n",
    "else: \n",
    "     print(\"Player found!\")\n",
    "\n",
    "finally:\n",
    "    print(\"Blazers win!\")\n"
   ]
  }
 ],
 "metadata": {
  "kernelspec": {
   "display_name": "Python 3",
   "language": "python",
   "name": "python3"
  },
  "language_info": {
   "codemirror_mode": {
    "name": "ipython",
    "version": 3
   },
   "file_extension": ".py",
   "mimetype": "text/x-python",
   "name": "python",
   "nbconvert_exporter": "python",
   "pygments_lexer": "ipython3",
   "version": "3.11.3"
  },
  "orig_nbformat": 4
 },
 "nbformat": 4,
 "nbformat_minor": 2
}
