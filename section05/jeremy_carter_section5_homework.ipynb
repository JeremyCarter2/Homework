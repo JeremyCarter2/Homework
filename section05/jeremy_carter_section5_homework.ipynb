{
 "cells": [
  {
   "cell_type": "markdown",
   "metadata": {},
   "source": [
    "#### What does Pandas stand for?\n",
    "- Pandas is a play on the phase \"Pandas Data Analysis\"\n",
    "#### What are the 2 collections used in Pandas?\n",
    "- The two series that are used in Pandas are *Series* and *DataFrames*\n",
    "#### Name 4 things Pandas can do for us.\n",
    "1. Pandas allows a user to import data from a .CSV, Excel, and other sources\n",
    "2. Pandas allows a user to transform datas\n",
    "3. Pandas allows a user to cleanse data\n",
    "4. Pandas allows a user to build data visualizations\n",
    "#### To permanently sort a DataFrame, which keyword should one use with the df.sort() method?\n",
    "- To permanently sort a Dataframe with df.sort() you must use _\"inplace=True\"_\n",
    "#### What is a CSV?\n",
    "- A CSV is shorthand for Comma Seperated Value, it may also refer to other type of seperators\n",
    "#### When cleaning data what values do we not like in our data?\n",
    "- When cleaning data it is important to address _Null_ values"
   ]
  },
  {
   "cell_type": "code",
   "execution_count": null,
   "metadata": {},
   "outputs": [],
   "source": [
    "# Import NumPy, use one of the NumPy methods and create an array with a shape of (2, 3, 2). You can use the reshape method -- .reshape()\n",
    "\n",
    "import numpy as np # import numpy \n",
    "import random # import random\n",
    "\n",
    "random_array = np.random.randint(0, 10, (2, 3, 2)) # use the random module to create a random array of (2,3,3) using intergers from 0 - 10\n",
    "\n",
    "print(random_array) # print it\n",
    "\n"
   ]
  },
  {
   "cell_type": "code",
   "execution_count": 49,
   "metadata": {},
   "outputs": [
    {
     "name": "stdout",
     "output_type": "stream",
     "text": [
      "[ 0.  4.  8. 12. 16. 20.]\n"
     ]
    }
   ],
   "source": [
    "# Use NumPy .linspace() to create an array with 6 linearly spaced values between 0 and 20\n",
    "\n",
    "import numpy as np # import numpy\n",
    "\n",
    "linearly_spaced_values = np.linspace(0, 20, 6) # use the .linspace function to create 6 values spaced from 0 from 20 \n",
    "\n",
    "print(linearly_spaced_values) # print it \n"
   ]
  },
  {
   "cell_type": "markdown",
   "metadata": {},
   "source": [
    "<!-- What does Pandas stand for?\n",
    "What are the 2 collections used in Pandas?\n",
    "Name 4 things Pandas can do for us.\n",
    "To permanently sort a DataFrame, which keyword should one use with the df.sort() method?\n",
    "What is a CSV?\n",
    "When cleaning data what values do we not like in our data? -->"
   ]
  },
  {
   "cell_type": "code",
   "execution_count": 50,
   "metadata": {},
   "outputs": [
    {
     "data": {
      "text/plain": [
       "array([ 0.,  4.,  8., 12., 16., 20.])"
      ]
     },
     "execution_count": 50,
     "metadata": {},
     "output_type": "execute_result"
    }
   ],
   "source": [
    "# Make a Deep Copy of the above array\n",
    "\n",
    "copied_array = np.copy(linearly_spaced_values) # call copy to create new variable using the preivious array\n",
    "\n",
    "copied_array"
   ]
  },
  {
   "cell_type": "code",
   "execution_count": 51,
   "metadata": {},
   "outputs": [
    {
     "name": "stdout",
     "output_type": "stream",
     "text": [
      "[[25 16]\n",
      " [11  2]\n",
      " [13  4]\n",
      " [ 7 81]\n",
      " [ 5  6]\n",
      " [11 12]]\n"
     ]
    }
   ],
   "source": [
    "import numpy as np # imported numpy again\n",
    "\n",
    "x = np.array([[25, 16]]) # made them an array\n",
    "y = np.array([[11, 2], [13, 4]])\n",
    "z = np.array([[7, 81], [5, 6], [11, 12]])\n",
    "\n",
    "# Concatenate along the axis\n",
    "newArrays = np.concatenate((x, y, z), axis=0) # concat the above arrays\n",
    "\n",
    "print(newArrays)\n"
   ]
  },
  {
   "cell_type": "code",
   "execution_count": 52,
   "metadata": {},
   "outputs": [
    {
     "name": "stdout",
     "output_type": "stream",
     "text": [
      "[[16 25]\n",
      " [ 2 11]\n",
      " [ 4 13]\n",
      " [ 7 81]\n",
      " [ 5  6]\n",
      " [11 12]]\n"
     ]
    }
   ],
   "source": [
    "# Sort newArray into sortedArray\n",
    "\n",
    "sortedArray = newArrays.sort()  # I uesed .sort() to sort the newArray\n",
    "\n",
    "print(newArrays) # Then I printed it "
   ]
  },
  {
   "cell_type": "code",
   "execution_count": 53,
   "metadata": {},
   "outputs": [
    {
     "name": "stdout",
     "output_type": "stream",
     "text": [
      "[1 2 3]\n",
      "[4 5 6]\n",
      "[7 8 9]\n",
      "[10 11 12]\n"
     ]
    }
   ],
   "source": [
    "# Unpack the array tuples from the above 'reshapedArray' into 4 well named variables. Print the 4 variables.\n",
    "\n",
    "reshapedArray = np.array([[1,2,3],  # I didn't have a reshapedarray variable created\n",
    "                 [4,5,6],           # I checked and couldn't find where it was supposed to be created\n",
    "                 [7,8,9],           # I created an array that would allow me to answer the question\n",
    "                 [10,11,12]])\n",
    "\n",
    "first, second, third, fourth = reshapedArray # I assigned variables to each list\n",
    "\n",
    "print(first)  # then I printed it\n",
    "print(second)\n",
    "print(third)\n",
    "print(fourth)\n",
    "\n"
   ]
  },
  {
   "cell_type": "code",
   "execution_count": 54,
   "metadata": {},
   "outputs": [
    {
     "name": "stdout",
     "output_type": "stream",
     "text": [
      "[ 0  1  2  3  4  5  6  7 10 11 12 13 14 15 16 17 20 21 22 23 24 25 26 27]\n"
     ]
    }
   ],
   "source": [
    "# Combined and sort the following arrays into one called 'comboArray' \n",
    "\n",
    "one = np.array([10, 11, 12, 13, 14, 15, 16, 17]) # create arrays out of the lists\n",
    "two = np.array([20, 21, 22, 23, 24, 25, 26, 27])\n",
    "three = np.array([ 0, 1, 2, 3, 4, 5, 6, 7])\n",
    "\n",
    "comboArray = np.concatenate((one,two,three), axis=0) # combine the above arrays on the correct axis\n",
    "comboArray = np.sort(comboArray)\n",
    "\n",
    "\n",
    "print(comboArray) # sort it and then print the combined array"
   ]
  },
  {
   "cell_type": "code",
   "execution_count": 55,
   "metadata": {},
   "outputs": [
    {
     "name": "stdout",
     "output_type": "stream",
     "text": [
      "[ 0  1  2  3  4  5  6  7 10 11 12 13 14 15 16 17 20 21 22 23 24 25 26 27]\n",
      "1\n",
      "[ 2  3  4  5  6  7 10 11 12 13 14 15 16 17 20 21 22 23 24 25 26 27]\n",
      "[ 3  4  5  6  7 10 11 12 13 14 15]\n",
      "[ 0  1  2  3  4  5  6  7 10 11 12 13 14 15]\n",
      "[20 21 22 23 24 25 26 27]\n",
      "[]\n"
     ]
    }
   ],
   "source": [
    "# Take 'comboArray' and perform the following slicing activities:\n",
    "\n",
    "# print sec1 - the 2nd element\n",
    "# print sec2 - all elements from the 3rd element to the last\n",
    "# print sec3 - all elements from the 4th to the 14th elements\n",
    "# print sec4 - the last 6 elements\n",
    "# print sec5 - all element from #0 up to and including #15, using the negative number method, i.e. taking a section from the end.\n",
    "# print sec6 - from #20 every even element to the end\n",
    "# print sec7 - from the last element moving forward, every 5th element.\n",
    "\n",
    "print(comboArray)\n",
    "print(comboArray[1])\n",
    "print(comboArray[2:])\n",
    "print(comboArray[3:14])\n",
    "print(comboArray[-24:-10])\n",
    "print(comboArray[-8:]) \n",
    "print(comboArray[27::5]) # last element??"
   ]
  },
  {
   "cell_type": "code",
   "execution_count": 56,
   "metadata": {},
   "outputs": [
    {
     "data": {
      "text/html": [
       "<div>\n",
       "<style scoped>\n",
       "    .dataframe tbody tr th:only-of-type {\n",
       "        vertical-align: middle;\n",
       "    }\n",
       "\n",
       "    .dataframe tbody tr th {\n",
       "        vertical-align: top;\n",
       "    }\n",
       "\n",
       "    .dataframe thead th {\n",
       "        text-align: right;\n",
       "    }\n",
       "</style>\n",
       "<table border=\"1\" class=\"dataframe\">\n",
       "  <thead>\n",
       "    <tr style=\"text-align: right;\">\n",
       "      <th></th>\n",
       "      <th>Ingredients</th>\n",
       "      <th>Quantity</th>\n",
       "      <th>Unit</th>\n",
       "    </tr>\n",
       "  </thead>\n",
       "  <tbody>\n",
       "    <tr>\n",
       "      <th>0</th>\n",
       "      <td>Flour</td>\n",
       "      <td>4</td>\n",
       "      <td>cups</td>\n",
       "    </tr>\n",
       "    <tr>\n",
       "      <th>1</th>\n",
       "      <td>Milk</td>\n",
       "      <td>1</td>\n",
       "      <td>cup</td>\n",
       "    </tr>\n",
       "    <tr>\n",
       "      <th>2</th>\n",
       "      <td>Eggs</td>\n",
       "      <td>2</td>\n",
       "      <td>large</td>\n",
       "    </tr>\n",
       "    <tr>\n",
       "      <th>3</th>\n",
       "      <td>Spam</td>\n",
       "      <td>1</td>\n",
       "      <td>can</td>\n",
       "    </tr>\n",
       "  </tbody>\n",
       "</table>\n",
       "</div>"
      ],
      "text/plain": [
       "  Ingredients  Quantity   Unit\n",
       "0       Flour         4   cups\n",
       "1        Milk         1    cup\n",
       "2        Eggs         2  large\n",
       "3        Spam         1    can"
      ]
     },
     "execution_count": 56,
     "metadata": {},
     "output_type": "execute_result"
    }
   ],
   "source": [
    "import numpy as np\n",
    "import pandas as pd\n",
    "\n",
    "# Using Series, create a DataFrame that looks like this:\n",
    "\n",
    "# Ingredients\tQuantity\tUnit\n",
    "# Flour\t4\tcups\n",
    "# Milk\t1\tcup\n",
    "# Eggs\t2\tlarge\n",
    "# Spam\t1\tcan\n",
    "# Name: Dinner, dtype: object\n",
    "\n",
    "\n",
    "ingredients = pd.Series([\"Flour\", \"Milk\", \"Eggs\", \"Spam\"], name=\"Ingredients\") # create indivual series using a list \n",
    "quantity = pd.Series([4, 1, 2, 1], name=\"Quantity\")\n",
    "unit = pd.Series([\"cups\", \"cup\", \"large\", \"can\"], name=\"Unit\")\n",
    "\n",
    "df = pd.concat([ingredients, quantity, unit], axis=1) # concat the series together\n",
    "\n",
    "df # show the dataframe\n"
   ]
  },
  {
   "cell_type": "code",
   "execution_count": 57,
   "metadata": {},
   "outputs": [
    {
     "data": {
      "text/html": [
       "<div>\n",
       "<style scoped>\n",
       "    .dataframe tbody tr th:only-of-type {\n",
       "        vertical-align: middle;\n",
       "    }\n",
       "\n",
       "    .dataframe tbody tr th {\n",
       "        vertical-align: top;\n",
       "    }\n",
       "\n",
       "    .dataframe thead th {\n",
       "        text-align: right;\n",
       "    }\n",
       "</style>\n",
       "<table border=\"1\" class=\"dataframe\">\n",
       "  <thead>\n",
       "    <tr style=\"text-align: right;\">\n",
       "      <th></th>\n",
       "      <th>Name</th>\n",
       "      <th>Height</th>\n",
       "      <th>Qualification</th>\n",
       "      <th>address</th>\n",
       "      <th>Age</th>\n",
       "      <th>Pets</th>\n",
       "      <th>sport</th>\n",
       "    </tr>\n",
       "  </thead>\n",
       "  <tbody>\n",
       "    <tr>\n",
       "      <th>0</th>\n",
       "      <td>Jai</td>\n",
       "      <td>5.1</td>\n",
       "      <td>Msc</td>\n",
       "      <td>Delhi</td>\n",
       "      <td>21</td>\n",
       "      <td>Dog</td>\n",
       "      <td>Darts</td>\n",
       "    </tr>\n",
       "    <tr>\n",
       "      <th>1</th>\n",
       "      <td>janusha</td>\n",
       "      <td>6.2</td>\n",
       "      <td>MA</td>\n",
       "      <td>Doha</td>\n",
       "      <td>23</td>\n",
       "      <td>Bunny</td>\n",
       "      <td>Basketball</td>\n",
       "    </tr>\n",
       "    <tr>\n",
       "      <th>2</th>\n",
       "      <td>Gaurav</td>\n",
       "      <td>5.1</td>\n",
       "      <td>Msc</td>\n",
       "      <td>Chennai</td>\n",
       "      <td>24</td>\n",
       "      <td>Chinchilla</td>\n",
       "      <td>PaddleBoarding</td>\n",
       "    </tr>\n",
       "    <tr>\n",
       "      <th>3</th>\n",
       "      <td>Anuj</td>\n",
       "      <td>5.2</td>\n",
       "      <td>Msc</td>\n",
       "      <td>Dakhar</td>\n",
       "      <td>21</td>\n",
       "      <td>Parrot</td>\n",
       "      <td>Cricket</td>\n",
       "    </tr>\n",
       "  </tbody>\n",
       "</table>\n",
       "</div>"
      ],
      "text/plain": [
       "      Name  Height Qualification  address  Age        Pets           sport\n",
       "0      Jai     5.1           Msc    Delhi   21         Dog           Darts\n",
       "1  janusha     6.2            MA     Doha   23       Bunny      Basketball\n",
       "2   Gaurav     5.1           Msc  Chennai   24  Chinchilla  PaddleBoarding\n",
       "3     Anuj     5.2           Msc   Dakhar   21      Parrot         Cricket"
      ]
     },
     "execution_count": 57,
     "metadata": {},
     "output_type": "execute_result"
    }
   ],
   "source": [
    "studentData = pd.DataFrame({'Name': ['Jai', 'janusha', 'Gaurav', 'Anuj'],\n",
    "        'Height': [5.1, 6.2, 5.1, 5.2],\n",
    "        'Qualification': ['Msc', 'MA', 'Msc', 'Msc'],\n",
    "        'address': ['Delhi', 'Doha', 'Chennai', 'Dakhar'],\n",
    "        'Age': [21, 23, 24, 21],\n",
    "        'Pets': ['Dog', 'Bunny', 'Chinchilla', 'Parrot'],\n",
    "        'sport': ['Darts', 'Basketball', 'PaddleBoarding', 'Cricket']}) # create a dataframes using a dictionary for the provided information\n",
    "\n",
    "studentData # show that data"
   ]
  },
  {
   "cell_type": "code",
   "execution_count": 58,
   "metadata": {},
   "outputs": [
    {
     "data": {
      "text/html": [
       "<div>\n",
       "<style scoped>\n",
       "    .dataframe tbody tr th:only-of-type {\n",
       "        vertical-align: middle;\n",
       "    }\n",
       "\n",
       "    .dataframe tbody tr th {\n",
       "        vertical-align: top;\n",
       "    }\n",
       "\n",
       "    .dataframe thead th {\n",
       "        text-align: right;\n",
       "    }\n",
       "</style>\n",
       "<table border=\"1\" class=\"dataframe\">\n",
       "  <thead>\n",
       "    <tr style=\"text-align: right;\">\n",
       "      <th></th>\n",
       "      <th>Name</th>\n",
       "      <th>Height</th>\n",
       "      <th>Qualification</th>\n",
       "      <th>address</th>\n",
       "      <th>Age</th>\n",
       "      <th>Pets</th>\n",
       "      <th>sport</th>\n",
       "      <th>deserts</th>\n",
       "    </tr>\n",
       "  </thead>\n",
       "  <tbody>\n",
       "    <tr>\n",
       "      <th>0</th>\n",
       "      <td>Jai</td>\n",
       "      <td>5.1</td>\n",
       "      <td>Msc</td>\n",
       "      <td>Delhi</td>\n",
       "      <td>21</td>\n",
       "      <td>Dog</td>\n",
       "      <td>Darts</td>\n",
       "      <td>ice cream</td>\n",
       "    </tr>\n",
       "    <tr>\n",
       "      <th>1</th>\n",
       "      <td>janusha</td>\n",
       "      <td>6.2</td>\n",
       "      <td>MA</td>\n",
       "      <td>Doha</td>\n",
       "      <td>23</td>\n",
       "      <td>Bunny</td>\n",
       "      <td>Basketball</td>\n",
       "      <td>Cashew Fudge</td>\n",
       "    </tr>\n",
       "    <tr>\n",
       "      <th>2</th>\n",
       "      <td>Gaurav</td>\n",
       "      <td>5.1</td>\n",
       "      <td>Msc</td>\n",
       "      <td>Chennai</td>\n",
       "      <td>24</td>\n",
       "      <td>Chinchilla</td>\n",
       "      <td>PaddleBoarding</td>\n",
       "      <td>waffels</td>\n",
       "    </tr>\n",
       "    <tr>\n",
       "      <th>3</th>\n",
       "      <td>Anuj</td>\n",
       "      <td>5.2</td>\n",
       "      <td>Msc</td>\n",
       "      <td>Dakhar</td>\n",
       "      <td>21</td>\n",
       "      <td>Parrot</td>\n",
       "      <td>Cricket</td>\n",
       "      <td>Carrot Halwa</td>\n",
       "    </tr>\n",
       "  </tbody>\n",
       "</table>\n",
       "</div>"
      ],
      "text/plain": [
       "      Name  Height Qualification  address  Age        Pets           sport  \\\n",
       "0      Jai     5.1           Msc    Delhi   21         Dog           Darts   \n",
       "1  janusha     6.2            MA     Doha   23       Bunny      Basketball   \n",
       "2   Gaurav     5.1           Msc  Chennai   24  Chinchilla  PaddleBoarding   \n",
       "3     Anuj     5.2           Msc   Dakhar   21      Parrot         Cricket   \n",
       "\n",
       "        deserts  \n",
       "0     ice cream  \n",
       "1  Cashew Fudge  \n",
       "2       waffels  \n",
       "3  Carrot Halwa  "
      ]
     },
     "execution_count": 58,
     "metadata": {},
     "output_type": "execute_result"
    }
   ],
   "source": [
    "# Add a new column to the DataFrame with the following deserts: [\"ice cream\", \"Cashew Fudge\", \"waffels\", \"Carrot Halwa\"]\n",
    "\n",
    "\n",
    "deserts = pd.Series([\"ice cream\", \"Cashew Fudge\", \"waffels\", \"Carrot Halwa\"], name = \"deserts\") # create a series for the information to be added\n",
    "\n",
    "studentData['deserts'] = deserts # append the series to the previous data frame\n",
    "\n",
    "studentData # display the dataframe"
   ]
  },
  {
   "cell_type": "code",
   "execution_count": 59,
   "metadata": {},
   "outputs": [
    {
     "data": {
      "text/html": [
       "<div>\n",
       "<style scoped>\n",
       "    .dataframe tbody tr th:only-of-type {\n",
       "        vertical-align: middle;\n",
       "    }\n",
       "\n",
       "    .dataframe tbody tr th {\n",
       "        vertical-align: top;\n",
       "    }\n",
       "\n",
       "    .dataframe thead th {\n",
       "        text-align: right;\n",
       "    }\n",
       "</style>\n",
       "<table border=\"1\" class=\"dataframe\">\n",
       "  <thead>\n",
       "    <tr style=\"text-align: right;\">\n",
       "      <th></th>\n",
       "      <th>Name</th>\n",
       "      <th>Height</th>\n",
       "      <th>Qualification</th>\n",
       "      <th>address</th>\n",
       "      <th>Age</th>\n",
       "      <th>Pets</th>\n",
       "      <th>sport</th>\n",
       "      <th>deserts</th>\n",
       "    </tr>\n",
       "  </thead>\n",
       "  <tbody>\n",
       "    <tr>\n",
       "      <th>3</th>\n",
       "      <td>Anuj</td>\n",
       "      <td>5.2</td>\n",
       "      <td>Msc</td>\n",
       "      <td>Dakhar</td>\n",
       "      <td>21</td>\n",
       "      <td>Parrot</td>\n",
       "      <td>Cricket</td>\n",
       "      <td>Carrot Halwa</td>\n",
       "    </tr>\n",
       "    <tr>\n",
       "      <th>2</th>\n",
       "      <td>Gaurav</td>\n",
       "      <td>5.1</td>\n",
       "      <td>Msc</td>\n",
       "      <td>Chennai</td>\n",
       "      <td>24</td>\n",
       "      <td>Chinchilla</td>\n",
       "      <td>PaddleBoarding</td>\n",
       "      <td>waffels</td>\n",
       "    </tr>\n",
       "    <tr>\n",
       "      <th>0</th>\n",
       "      <td>Jai</td>\n",
       "      <td>5.1</td>\n",
       "      <td>Msc</td>\n",
       "      <td>Delhi</td>\n",
       "      <td>21</td>\n",
       "      <td>Dog</td>\n",
       "      <td>Darts</td>\n",
       "      <td>ice cream</td>\n",
       "    </tr>\n",
       "    <tr>\n",
       "      <th>1</th>\n",
       "      <td>janusha</td>\n",
       "      <td>6.2</td>\n",
       "      <td>MA</td>\n",
       "      <td>Doha</td>\n",
       "      <td>23</td>\n",
       "      <td>Bunny</td>\n",
       "      <td>Basketball</td>\n",
       "      <td>Cashew Fudge</td>\n",
       "    </tr>\n",
       "  </tbody>\n",
       "</table>\n",
       "</div>"
      ],
      "text/plain": [
       "      Name  Height Qualification  address  Age        Pets           sport  \\\n",
       "3     Anuj     5.2           Msc   Dakhar   21      Parrot         Cricket   \n",
       "2   Gaurav     5.1           Msc  Chennai   24  Chinchilla  PaddleBoarding   \n",
       "0      Jai     5.1           Msc    Delhi   21         Dog           Darts   \n",
       "1  janusha     6.2            MA     Doha   23       Bunny      Basketball   \n",
       "\n",
       "        deserts  \n",
       "3  Carrot Halwa  \n",
       "2       waffels  \n",
       "0     ice cream  \n",
       "1  Cashew Fudge  "
      ]
     },
     "execution_count": 59,
     "metadata": {},
     "output_type": "execute_result"
    }
   ],
   "source": [
    "# Sort the 'studentData' DataFrame in Ascending order -- Sorting by column 'Name' and then \"address\"\n",
    "\n",
    "sortedStudentData = studentData.sort_values(by=['Name', 'address']) # sort the previous dataframe by first name, then address using the sort function\n",
    "\n",
    "sortedStudentData # display the dataframe\n"
   ]
  },
  {
   "cell_type": "code",
   "execution_count": 61,
   "metadata": {},
   "outputs": [],
   "source": [
    "# Save this DataFrame here below to disc as a .CSV file with the name cows_and_goats.csv:\n",
    "\n",
    "df = pd.DataFrame({'Cows': [12, 20], 'Goats': [22, 19]}, index=['Year 1', 'Year 2']) #info from the question\n",
    "\n",
    "df.to_csv('cows_and_goats.csv') # write to the .csv"
   ]
  },
  {
   "cell_type": "code",
   "execution_count": 62,
   "metadata": {},
   "outputs": [],
   "source": [
    "# (A) Using Pandas, make your own .CSV file with data on vegetables and save it. (B) Using Pandas, make a change to your CSV file, and save a copy with a different name.\n",
    "\n",
    "\n",
    "vegetables = pd.DataFrame({'green': ['broccoli', 'arugula', 'green beans'],\n",
    "            'red': ['bell peppers', 'chili pepper', 'tomatoes'],\n",
    "            'yellow': ['corn', 'squash', 'pumpkin']})  # Create a dataframe of vegetables\n",
    "\n",
    "\n",
    "vegetables.to_csv('vegetablesByColor.csv') # write the information to a csv\n",
    "\n",
    "update_vegetables = pd.read_csv('vegetablesByColor.csv') # read the .csv back in\n",
    "\n",
    "newVeggies = pd.DataFrame({'green': ['cabbage'],\n",
    "                          'red': ['beets'],\n",
    "                           'yellow': ['pumpkin']}) # create a new dataframe with an extra veggie\n",
    "\n",
    "updatedVeggies = pd.concat([vegetables, newVeggies]) # concat the two dataframes \n",
    "\n",
    "updatedVeggies.to_csv('vegetables_updated.csv')\n",
    "\n",
    "\n",
    "\n"
   ]
  }
 ],
 "metadata": {
  "kernelspec": {
   "display_name": "Python 3",
   "language": "python",
   "name": "python3"
  },
  "language_info": {
   "codemirror_mode": {
    "name": "ipython",
    "version": 3
   },
   "file_extension": ".py",
   "mimetype": "text/x-python",
   "name": "python",
   "nbconvert_exporter": "python",
   "pygments_lexer": "ipython3",
   "version": "3.11.3"
  },
  "orig_nbformat": 4
 },
 "nbformat": 4,
 "nbformat_minor": 2
}
